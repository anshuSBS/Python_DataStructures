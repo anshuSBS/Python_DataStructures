{
 "cells": [
  {
   "cell_type": "code",
   "execution_count": null,
   "metadata": {},
   "outputs": [],
   "source": [
    "#DATA STRUCTURES IN PYTHON(PREMETIVE: LIST, DICT, TUPLE, SET)"
   ]
  },
  {
   "cell_type": "code",
   "execution_count": 82,
   "metadata": {},
   "outputs": [
    {
     "name": "stdout",
     "output_type": "stream",
     "text": [
      "99\n",
      "[1, 2, 3, 'anshu', 4, (5, 99), 6, 7]\n",
      "[1, 3, 4, 6]\n",
      "[7, 6, (5, 99), 4, 'anshu', 3, 2, 1]\n",
      "[1, 2, 3, 4, (5, 99), 6, 7]\n",
      "2\n",
      "[3, 4, (5, 99), 6, 7]\n",
      "[3, 4, (5, 99), 6, 7]\n",
      "[3, 4, (5, 99)]\n",
      "[3, (5, 99)]\n"
     ]
    }
   ],
   "source": [
    "                   #LIST\n",
    "\n",
    "#to append data in list(append,extend,insert)\n",
    "list1 = [1,2,3,4]\n",
    "list1.append((5,99))\n",
    "print(list1[4][1])\n",
    "list1.extend((6,7))\n",
    "list1.insert(3,\"anshu\")\n",
    "print(list1)\n",
    "print(list1[0:-1:2])#from 0 to last skipping every second element\n",
    "print(list1[::-1])\n",
    "#to delete data from list(del,pop(),remove())\n",
    "del list1[3]\n",
    "print(list1)\n",
    "\n",
    "a=list1.pop(1)\n",
    "print(a)\n",
    "list1.remove(1)\n",
    "print(list1)\n",
    "print(list1[:])\n",
    "print(list1[0:3])\n",
    "print(list1[0:4:2])"
   ]
  },
  {
   "cell_type": "code",
   "execution_count": 2,
   "metadata": {},
   "outputs": [
    {
     "name": "stdout",
     "output_type": "stream",
     "text": [
      "[1, 1, 2, 697, 12, 75, 54, 96, 0]\n",
      "[0, 1, 1, 2, 12, 54, 75, 96, 697]\n",
      "[697, 96, 75, 54, 12, 2, 1, 1, 0]\n",
      "8\n",
      "2\n"
     ]
    }
   ],
   "source": [
    "                  #LIST\n",
    "#SORT , SORTED , INDEX and COUNT\n",
    "list2 = [1,1,2,697,12,75,54,96,0]\n",
    "print(list2)\n",
    "print(sorted(list2))\n",
    "\n",
    "list2.sort(reverse=True)\n",
    "print(list2)\n",
    "\n",
    "print(list2.index(0))#tells the position of the index value\n",
    "\n",
    "print(list2.count(1))# tells the number of repetition of the given value\n",
    "\n"
   ]
  },
  {
   "cell_type": "code",
   "execution_count": 3,
   "metadata": {},
   "outputs": [
    {
     "name": "stdout",
     "output_type": "stream",
     "text": [
      "(1, 2, 3, 4)\n",
      "(1, 2, 3, 4, 5, 6, 7, 8)\n"
     ]
    }
   ],
   "source": [
    "                  #TUPLES\n",
    "tuple1 = (1,2,3,4)\n",
    "print(tuple1)\n",
    "tuple1 = tuple1 + (5,6,7,8)\n",
    "print(tuple1)"
   ]
  },
  {
   "cell_type": "code",
   "execution_count": 54,
   "metadata": {},
   "outputs": [
    {
     "name": "stdout",
     "output_type": "stream",
     "text": [
      "dict_keys([1, 2])\n",
      "dict_values(['java', 'javascript'])\n",
      "dict_items([(1, 'java'), (2, 'javascript')])\n",
      "{1: 'java', 2: 'javascript'}\n",
      "{1: 'java', 2: 'python'}\n",
      "{1: 'java', 2: 'python', 3: 'Ruby'}\n",
      "{2: 'python', 3: 'Ruby'}\n",
      "python\n",
      "{3: 'Ruby'}\n",
      "(3, 'Ruby')\n",
      "{}\n"
     ]
    }
   ],
   "source": [
    "                 #DICTIONARY\n",
    "dict1 = {1: \"java\", 2: \"javascript\"}\n",
    "print(dict1.keys())\n",
    "print(dict1.values())\n",
    "print(dict1.items())\n",
    "print(dict1)\n",
    "dict1[2] = \"python\"\n",
    "print(dict1)\n",
    "dict1[3] = \"Ruby\"\n",
    "print(dict1)\n",
    "\n",
    "del dict1[1]\n",
    "print(dict1)\n",
    "\n",
    "print(dict1.pop(2))\n",
    "print(dict1)\n",
    "\n",
    "print(dict1.popitem())\n",
    "print(dict1)\n",
    "\n",
    "\n",
    "\n"
   ]
  },
  {
   "cell_type": "code",
   "execution_count": 1,
   "metadata": {},
   "outputs": [
    {
     "name": "stdout",
     "output_type": "stream",
     "text": [
      "{1, 2, 3, 4}\n",
      "{1, 2, 3, 4, 5}\n",
      "{1, 2, 3, 4, 5, 6, 7}\n",
      "{2, 3, 4, 5}\n",
      "{6, 7}\n",
      "{1, 6, 7}\n"
     ]
    }
   ],
   "source": [
    "                          #SETS\n",
    "# uniiion, intersection, difference and symmetric_difference.\n",
    "set1= {1,2,3,4,4,4,4}\n",
    "print(set1)\n",
    "set1.add(5)\n",
    "print(set1)\n",
    "\n",
    "set2 = {2,3,4,5,6,7}\n",
    "print(set1.union(set2))\n",
    "\n",
    "print(set1.intersection(set2))\n",
    "\n",
    "print(set2.difference(set1))\n",
    "\n",
    "print(set1.symmetric_difference(set2))\n"
   ]
  },
  {
   "cell_type": "code",
   "execution_count": null,
   "metadata": {},
   "outputs": [],
   "source": [
    "                                    #USER-DEFINED DATA TYPES\n",
    "                          #STACK , QUEUES , TREES , GRAPHS , HASHMAPS(same as dictionary) , LINKED LIST"
   ]
  },
  {
   "cell_type": "code",
   "execution_count": 2,
   "metadata": {},
   "outputs": [
    {
     "name": "stdout",
     "output_type": "stream",
     "text": [
      "1. print array\n",
      "2. add element\n",
      "3. delete element\n",
      "4. exit\n",
      "enter your choice: 1\n",
      "the array elements are: \n",
      "1\n",
      "2\n",
      "3\n",
      "4\n",
      "5\n",
      "1. print array\n",
      "2. add element\n",
      "3. delete element\n",
      "4. exit\n",
      "enter your choice: 2\n",
      "enter the integer number: 6\n",
      "1. print array\n",
      "2. add element\n",
      "3. delete element\n",
      "4. exit\n",
      "enter your choice: 1\n",
      "the array elements are: \n",
      "1\n",
      "2\n",
      "3\n",
      "4\n",
      "5\n",
      "6\n",
      "1. print array\n",
      "2. add element\n",
      "3. delete element\n",
      "4. exit\n",
      "enter your choice: 2\n",
      "enter the integer number: 7\n",
      "1. print array\n",
      "2. add element\n",
      "3. delete element\n",
      "4. exit\n",
      "enter your choice: 1\n",
      "the array elements are: \n",
      "1\n",
      "2\n",
      "3\n",
      "4\n",
      "5\n",
      "6\n",
      "7\n",
      "1. print array\n",
      "2. add element\n",
      "3. delete element\n",
      "4. exit\n",
      "enter your choice: 3\n",
      "the deleted value is:  7\n",
      "1. print array\n",
      "2. add element\n",
      "3. delete element\n",
      "4. exit\n",
      "enter your choice: 1\n",
      "the array elements are: \n",
      "1\n",
      "2\n",
      "3\n",
      "4\n",
      "5\n",
      "6\n",
      "1. print array\n",
      "2. add element\n",
      "3. delete element\n",
      "4. exit\n",
      "enter your choice: 4\n"
     ]
    }
   ],
   "source": [
    "import array as arr\n",
    "a = arr.array('i', [1,2,3,4,5])\n",
    "while True:\n",
    "    print('1. print array')\n",
    "    print('2. add element')\n",
    "    print('3. delete element')\n",
    "    print('4. exit')\n",
    "    choice = int(input('enter your choice: '))\n",
    "    if choice==1:\n",
    "        print('the array elements are: ')\n",
    "        for i in a:\n",
    "            print(i)\n",
    "    elif choice==2:\n",
    "        val = int(input('enter the integer number: '))\n",
    "        a.append(val)\n",
    "    elif choice==3:\n",
    "        del_val = a.pop()\n",
    "        print('the deleted value is: ', del_val)\n",
    "    elif choice == 4:\n",
    "        break\n",
    "    else:\n",
    "        \n",
    "        print('pleaase enter a valid choice: ')"
   ]
  },
  {
   "cell_type": "code",
   "execution_count": 3,
   "metadata": {},
   "outputs": [
    {
     "name": "stdout",
     "output_type": "stream",
     "text": [
      "[1, 2, 3]\n",
      "the popped elements are: 3 2 1\n"
     ]
    }
   ],
   "source": [
    "                          #STACK (using list)\n",
    "stack = []\n",
    "\n",
    "def empty():\n",
    "    if len(stack)==0:\n",
    "        print('the stack is empty')\n",
    "    else:\n",
    "        print(stack)\n",
    "        \n",
    "val1 = 1\n",
    "val2 = 2\n",
    "val3 = 3\n",
    "stack.append(val1)\n",
    "stack.append(val2)\n",
    "stack.append(val3)\n",
    "empty()\n",
    "a = stack.pop()\n",
    "b = stack.pop()\n",
    "c = stack.pop()\n",
    "print('the popped elements are:', a,b,c)\n",
    "\n"
   ]
  },
  {
   "cell_type": "code",
   "execution_count": null,
   "metadata": {},
   "outputs": [
    {
     "name": "stdout",
     "output_type": "stream",
     "text": [
      "1. push\n",
      "2. pop\n",
      "3. quit\n",
      "what would you like to do ?1\n",
      "enter the value: 12\n",
      "1. push\n",
      "2. pop\n",
      "3. quit\n",
      "what would you like to do ?1\n",
      "enter the value: 13\n",
      "1. push\n",
      "2. pop\n",
      "3. quit\n",
      "what would you like to do ?1\n",
      "enter the value: 14\n",
      "1. push\n",
      "2. pop\n",
      "3. quit\n",
      "what would you like to do ?1\n",
      "enter the value: 15\n",
      "1. push\n",
      "2. pop\n",
      "3. quit\n",
      "what would you like to do ?2\n",
      "the popped value is :  15\n",
      "1. push\n",
      "2. pop\n",
      "3. quit\n"
     ]
    }
   ],
   "source": [
    "              #STACK (using class)\n",
    "    \n",
    "class stack:\n",
    "    def __init__(self):\n",
    "        self.items = []\n",
    "        \n",
    "    def is_empty(self):\n",
    "        return self.items == []\n",
    "    \n",
    "    def push(self, data):\n",
    "        self.items.append(data)\n",
    "        \n",
    "    def pop(self):\n",
    "        return self.items.pop()\n",
    "    \n",
    "s = stack()\n",
    "while True:\n",
    "    print('1. push')\n",
    "    print('2. pop')\n",
    "    print('3. quit')\n",
    "    do = int(input('what would you like to do ?'))\n",
    "    if do ==1:\n",
    "        val = input('enter the value: ')\n",
    "        s.push(val)\n",
    "    elif do ==2:\n",
    "        if s.is_empty():\n",
    "            print('stack is empty')\n",
    "        else:\n",
    "            print('the popped value is : ', s.pop())\n",
    "    elif do ==3:\n",
    "        break\n",
    "        "
   ]
  },
  {
   "cell_type": "code",
   "execution_count": 10,
   "metadata": {},
   "outputs": [
    {
     "name": "stdout",
     "output_type": "stream",
     "text": [
      "deque(['1st element', '2nd element', '3rd element'])\n",
      "the first popped element is  1st element\n",
      "the second popped element is  2nd element\n",
      "the third popped element is  3rd element\n"
     ]
    }
   ],
   "source": [
    "                                  #QUEUES\n",
    "from collections import deque\n",
    "q = deque()\n",
    "\n",
    "q.append(\"1st element\")\n",
    "q.append('2nd element')\n",
    "q.append(\"3rd element\")\n",
    "\n",
    "print(q)\n",
    "\n",
    "a = q.popleft()\n",
    "print('the first popped element is ', a)\n",
    "b = q.popleft()\n",
    "print('the second popped element is ', b)\n",
    "c = q.popleft()\n",
    "print('the third popped element is ', c)"
   ]
  },
  {
   "cell_type": "code",
   "execution_count": null,
   "metadata": {},
   "outputs": [],
   "source": [
    "#TREE, LINKED LIST , GRAPHS  ???"
   ]
  },
  {
   "cell_type": "code",
   "execution_count": null,
   "metadata": {},
   "outputs": [],
   "source": [
    "#MOSH"
   ]
  },
  {
   "cell_type": "code",
   "execution_count": 5,
   "metadata": {},
   "outputs": [
    {
     "name": "stdout",
     "output_type": "stream",
     "text": [
      "Guess: 1\n",
      "Guess: 2\n",
      "Guess: 3\n",
      "You Lose\n"
     ]
    }
   ],
   "source": [
    "#WHILE LOOP\n",
    "secret_number = 9\n",
    "guess_count = 0\n",
    "guess_limit = 3\n",
    "while guess_count <guess_limit:\n",
    "    guess = int(input('Guess: '))\n",
    "    guess_count +=1\n",
    "    if guess == secret_number:\n",
    "        print('You Won')\n",
    "        break\n",
    "else:\n",
    "    print(\"You Lose\")"
   ]
  },
  {
   "cell_type": "code",
   "execution_count": null,
   "metadata": {},
   "outputs": [],
   "source": [
    "#ARMSTRONG NUMBER\n",
    "for i in range(1001):\n",
    "    num = 1\n",
    "    result = 0\n",
    "    n = len(str(i))\n",
    "    while(i!=0):\n",
    "        digit = i%10\n",
    "        result = result+digit**n\n",
    "        \n",
    "    "
   ]
  },
  {
   "cell_type": "code",
   "execution_count": 22,
   "metadata": {},
   "outputs": [
    {
     "name": "stdout",
     "output_type": "stream",
     "text": [
      "sushma\n",
      "singh\n",
      "123\n"
     ]
    }
   ],
   "source": [
    "def my_function(fname):\n",
    "    print(fname )\n",
    "\n",
    "my_function(\"sushma\")\n",
    "my_function(\"singh\")\n",
    "my_function(\"123\")\n"
   ]
  },
  {
   "cell_type": "code",
   "execution_count": 23,
   "metadata": {},
   "outputs": [
    {
     "name": "stdout",
     "output_type": "stream",
     "text": [
      "<class 'int'>\n"
     ]
    }
   ],
   "source": [
    "x=5\n",
    "print(type(x))"
   ]
  },
  {
   "cell_type": "code",
   "execution_count": 30,
   "metadata": {},
   "outputs": [
    {
     "data": {
      "text/plain": [
       "int"
      ]
     },
     "execution_count": 30,
     "metadata": {},
     "output_type": "execute_result"
    }
   ],
   "source": [
    "x=1\n",
    "type(x)\n",
    "a=float(x)\n",
    "a\n",
    "type(a)\n",
    "b=int(x)\n",
    "type(b)"
   ]
  },
  {
   "cell_type": "code",
   "execution_count": 35,
   "metadata": {},
   "outputs": [],
   "source": [
    "x=2.6\n",
    "y=complex(5.6)\n"
   ]
  },
  {
   "cell_type": "code",
   "execution_count": 32,
   "metadata": {},
   "outputs": [
    {
     "data": {
      "text/plain": [
       "2.6"
      ]
     },
     "execution_count": 32,
     "metadata": {},
     "output_type": "execute_result"
    }
   ],
   "source": [
    "x"
   ]
  },
  {
   "cell_type": "code",
   "execution_count": 36,
   "metadata": {},
   "outputs": [
    {
     "data": {
      "text/plain": [
       "(5.6+0j)"
      ]
     },
     "execution_count": 36,
     "metadata": {},
     "output_type": "execute_result"
    }
   ],
   "source": [
    "y"
   ]
  },
  {
   "cell_type": "code",
   "execution_count": 52,
   "metadata": {},
   "outputs": [
    {
     "name": "stdout",
     "output_type": "stream",
     "text": [
      "nke\n"
     ]
    }
   ],
   "source": [
    "a = 'ankesh'\n",
    "print(a[-5:-2])"
   ]
  },
  {
   "cell_type": "code",
   "execution_count": 54,
   "metadata": {},
   "outputs": [
    {
     "name": "stdout",
     "output_type": "stream",
     "text": [
      "seema\n"
     ]
    }
   ],
   "source": [
    "a=\"     amulya\"\n",
    "print(a.strip())"
   ]
  },
  {
   "cell_type": "code",
   "execution_count": 56,
   "metadata": {},
   "outputs": [
    {
     "name": "stdout",
     "output_type": "stream",
     "text": [
      "A\n"
     ]
    }
   ],
   "source": [
    "a='a'\n",
    "b=a.upper()\n",
    "print(b)"
   ]
  },
  {
   "cell_type": "code",
   "execution_count": 58,
   "metadata": {},
   "outputs": [
    {
     "name": "stdout",
     "output_type": "stream",
     "text": [
      "cdshslgklh\n"
     ]
    }
   ],
   "source": [
    "a='cdsfslgklh'\n",
    "print(a.replace('f','h'))"
   ]
  },
  {
   "cell_type": "code",
   "execution_count": 59,
   "metadata": {},
   "outputs": [
    {
     "name": "stdout",
     "output_type": "stream",
     "text": [
      "['hi there', ' my name is ankesh']\n"
     ]
    }
   ],
   "source": [
    "a='hi there, my name is ankesh'\n",
    "print(a.split(','))"
   ]
  },
  {
   "cell_type": "code",
   "execution_count": 63,
   "metadata": {},
   "outputs": [
    {
     "name": "stdout",
     "output_type": "stream",
     "text": [
      "hi there\n"
     ]
    }
   ],
   "source": [
    "print(a[0:8])"
   ]
  },
  {
   "cell_type": "code",
   "execution_count": 76,
   "metadata": {},
   "outputs": [
    {
     "data": {
      "text/plain": [
       "False"
      ]
     },
     "execution_count": 76,
     "metadata": {},
     "output_type": "execute_result"
    }
   ],
   "source": [
    "x='seema' in a\n",
    "x"
   ]
  },
  {
   "cell_type": "code",
   "execution_count": 73,
   "metadata": {},
   "outputs": [
    {
     "name": "stdout",
     "output_type": "stream",
     "text": [
      "seema 40\n"
     ]
    }
   ],
   "source": [
    "name= 'jio'\n",
    "age = 40\n",
    "print(name,+age)"
   ]
  },
  {
   "cell_type": "code",
   "execution_count": 75,
   "metadata": {},
   "outputs": [
    {
     "data": {
      "text/plain": [
       "False"
      ]
     },
     "execution_count": 75,
     "metadata": {},
     "output_type": "execute_result"
    }
   ],
   "source": [
    "10<9"
   ]
  },
  {
   "cell_type": "code",
   "execution_count": null,
   "metadata": {},
   "outputs": [],
   "source": [
    "a='wo sultana daaku hai'\n"
   ]
  },
  {
   "cell_type": "code",
   "execution_count": 4,
   "metadata": {},
   "outputs": [
    {
     "name": "stdout",
     "output_type": "stream",
     "text": [
      "enter a number3\n",
      "2\n",
      "3\n",
      "4\n"
     ]
    }
   ],
   "source": [
    "a = int(input('enter a number'))\n",
    "for i in range(1,a+1):\n",
    "    print(i+1)"
   ]
  },
  {
   "cell_type": "code",
   "execution_count": 20,
   "metadata": {},
   "outputs": [
    {
     "name": "stdout",
     "output_type": "stream",
     "text": [
      "enter a number for it's factorial3\n",
      "2\n",
      "4\n",
      "6\n"
     ]
    }
   ],
   "source": [
    "a=int(input(\"enter a number for it's factorial\"))\n",
    "for i in range(1,a+1):\n",
    "    print(i+i)\n",
    "\n",
    "    "
   ]
  },
  {
   "cell_type": "code",
   "execution_count": null,
   "metadata": {},
   "outputs": [],
   "source": [
    "fact(3)"
   ]
  },
  {
   "cell_type": "code",
   "execution_count": 5,
   "metadata": {},
   "outputs": [
    {
     "name": "stdout",
     "output_type": "stream",
     "text": [
      "Enter a number: 543\n",
      "543 is not an Armstrong number\n"
     ]
    }
   ],
   "source": [
    "num = int(input(\"Enter a number: \"))\n",
    "sum = 0\n",
    "temp = num\n",
    "while temp > 0:\n",
    "   digit = temp % 10\n",
    "   sum += digit ** 3\n",
    "   temp //=10\n",
    "if num == sum:\n",
    "   print(num,\"is an Armstrong number\")\n",
    "else:\n",
    "   print(num,\"is not an Armstrong number\")"
   ]
  },
  {
   "cell_type": "code",
   "execution_count": 34,
   "metadata": {},
   "outputs": [],
   "source": [
    "temp=20"
   ]
  },
  {
   "cell_type": "code",
   "execution_count": 35,
   "metadata": {},
   "outputs": [],
   "source": [
    "temp //=2"
   ]
  },
  {
   "cell_type": "code",
   "execution_count": 37,
   "metadata": {},
   "outputs": [],
   "source": [
    "temp1=3"
   ]
  },
  {
   "cell_type": "code",
   "execution_count": 38,
   "metadata": {},
   "outputs": [],
   "source": []
  },
  {
   "cell_type": "code",
   "execution_count": 39,
   "metadata": {},
   "outputs": [],
   "source": [
    "temp=123"
   ]
  },
  {
   "cell_type": "code",
   "execution_count": 40,
   "metadata": {},
   "outputs": [
    {
     "data": {
      "text/plain": [
       "3"
      ]
     },
     "execution_count": 40,
     "metadata": {},
     "output_type": "execute_result"
    }
   ],
   "source": [
    "temp1"
   ]
  },
  {
   "cell_type": "code",
   "execution_count": 2,
   "metadata": {},
   "outputs": [
    {
     "name": "stdout",
     "output_type": "stream",
     "text": [
      "enter lower limit value12\n",
      "enter upper limit value50\n",
      "12\n",
      "16\n",
      "18\n",
      "22\n",
      "28\n",
      "30\n",
      "36\n",
      "40\n",
      "42\n",
      "46\n"
     ]
    }
   ],
   "source": [
    "a = int(input('enter lower limit value'))\n",
    "b= int(input('enter upper limit value'))\n",
    "for i in range(a,b):\n",
    "    if i > 1:\n",
    "        for val in range(2,i):\n",
    "            if i%val==0:\n",
    "                break\n",
    "        else:\n",
    "            print(val)"
   ]
  },
  {
   "cell_type": "code",
   "execution_count": 7,
   "metadata": {},
   "outputs": [
    {
     "name": "stdout",
     "output_type": "stream",
     "text": [
      "enter lower limit12\n",
      "enter upper limit50\n",
      "12\n",
      "16\n",
      "18\n",
      "22\n",
      "28\n",
      "30\n",
      "36\n",
      "40\n",
      "42\n",
      "46\n"
     ]
    }
   ],
   "source": [
    "a = int(input('enter lower limit'))\n",
    "b = int(input('enter upper limit'))\n",
    "for i in range(a,b):\n",
    "    if i>1:\n",
    "        for val in range(2,i):\n",
    "            if i%val==0:\n",
    "                break\n",
    "        else:\n",
    "            print(val)"
   ]
  },
  {
   "cell_type": "code",
   "execution_count": 5,
   "metadata": {},
   "outputs": [
    {
     "name": "stdout",
     "output_type": "stream",
     "text": [
      "enter a number to check for prime12\n",
      "no is prime\n"
     ]
    }
   ],
   "source": [
    "num = int(input('enter a number to check for prime'))\n",
    "i=0\n"
   ]
  },
  {
   "cell_type": "code",
   "execution_count": null,
   "metadata": {},
   "outputs": [],
   "source": []
  },
  {
   "cell_type": "code",
   "execution_count": null,
   "metadata": {},
   "outputs": [],
   "source": []
  },
  {
   "cell_type": "code",
   "execution_count": null,
   "metadata": {},
   "outputs": [],
   "source": []
  },
  {
   "cell_type": "code",
   "execution_count": null,
   "metadata": {},
   "outputs": [],
   "source": []
  },
  {
   "cell_type": "code",
   "execution_count": null,
   "metadata": {},
   "outputs": [],
   "source": []
  },
  {
   "cell_type": "code",
   "execution_count": null,
   "metadata": {},
   "outputs": [],
   "source": []
  },
  {
   "cell_type": "code",
   "execution_count": null,
   "metadata": {},
   "outputs": [],
   "source": []
  },
  {
   "cell_type": "code",
   "execution_count": null,
   "metadata": {},
   "outputs": [],
   "source": []
  },
  {
   "cell_type": "code",
   "execution_count": null,
   "metadata": {},
   "outputs": [],
   "source": []
  },
  {
   "cell_type": "code",
   "execution_count": null,
   "metadata": {},
   "outputs": [],
   "source": []
  },
  {
   "cell_type": "code",
   "execution_count": null,
   "metadata": {},
   "outputs": [],
   "source": []
  },
  {
   "cell_type": "code",
   "execution_count": null,
   "metadata": {},
   "outputs": [],
   "source": []
  },
  {
   "cell_type": "code",
   "execution_count": null,
   "metadata": {},
   "outputs": [],
   "source": []
  },
  {
   "cell_type": "code",
   "execution_count": null,
   "metadata": {},
   "outputs": [],
   "source": []
  },
  {
   "cell_type": "code",
   "execution_count": null,
   "metadata": {},
   "outputs": [],
   "source": []
  },
  {
   "cell_type": "code",
   "execution_count": null,
   "metadata": {},
   "outputs": [],
   "source": []
  },
  {
   "cell_type": "code",
   "execution_count": null,
   "metadata": {},
   "outputs": [],
   "source": []
  },
  {
   "cell_type": "code",
   "execution_count": null,
   "metadata": {},
   "outputs": [],
   "source": []
  },
  {
   "cell_type": "code",
   "execution_count": null,
   "metadata": {},
   "outputs": [],
   "source": []
  },
  {
   "cell_type": "code",
   "execution_count": null,
   "metadata": {},
   "outputs": [],
   "source": []
  },
  {
   "cell_type": "code",
   "execution_count": null,
   "metadata": {},
   "outputs": [],
   "source": []
  },
  {
   "cell_type": "code",
   "execution_count": null,
   "metadata": {},
   "outputs": [],
   "source": []
  },
  {
   "cell_type": "code",
   "execution_count": null,
   "metadata": {},
   "outputs": [],
   "source": []
  },
  {
   "cell_type": "code",
   "execution_count": null,
   "metadata": {},
   "outputs": [],
   "source": []
  },
  {
   "cell_type": "code",
   "execution_count": null,
   "metadata": {},
   "outputs": [],
   "source": []
  },
  {
   "cell_type": "code",
   "execution_count": null,
   "metadata": {},
   "outputs": [],
   "source": []
  },
  {
   "cell_type": "code",
   "execution_count": null,
   "metadata": {},
   "outputs": [],
   "source": []
  },
  {
   "cell_type": "code",
   "execution_count": null,
   "metadata": {},
   "outputs": [],
   "source": []
  },
  {
   "cell_type": "code",
   "execution_count": null,
   "metadata": {},
   "outputs": [],
   "source": []
  },
  {
   "cell_type": "code",
   "execution_count": null,
   "metadata": {},
   "outputs": [],
   "source": []
  },
  {
   "cell_type": "code",
   "execution_count": null,
   "metadata": {},
   "outputs": [],
   "source": []
  },
  {
   "cell_type": "code",
   "execution_count": null,
   "metadata": {},
   "outputs": [],
   "source": []
  },
  {
   "cell_type": "code",
   "execution_count": null,
   "metadata": {},
   "outputs": [],
   "source": []
  },
  {
   "cell_type": "code",
   "execution_count": null,
   "metadata": {},
   "outputs": [],
   "source": []
  },
  {
   "cell_type": "code",
   "execution_count": null,
   "metadata": {},
   "outputs": [],
   "source": []
  },
  {
   "cell_type": "code",
   "execution_count": null,
   "metadata": {},
   "outputs": [],
   "source": []
  },
  {
   "cell_type": "code",
   "execution_count": null,
   "metadata": {},
   "outputs": [],
   "source": []
  },
  {
   "cell_type": "code",
   "execution_count": null,
   "metadata": {},
   "outputs": [],
   "source": []
  },
  {
   "cell_type": "code",
   "execution_count": null,
   "metadata": {},
   "outputs": [],
   "source": []
  },
  {
   "cell_type": "code",
   "execution_count": null,
   "metadata": {},
   "outputs": [],
   "source": []
  },
  {
   "cell_type": "code",
   "execution_count": null,
   "metadata": {},
   "outputs": [],
   "source": []
  },
  {
   "cell_type": "code",
   "execution_count": null,
   "metadata": {},
   "outputs": [],
   "source": []
  },
  {
   "cell_type": "code",
   "execution_count": null,
   "metadata": {},
   "outputs": [],
   "source": []
  },
  {
   "cell_type": "code",
   "execution_count": null,
   "metadata": {},
   "outputs": [],
   "source": []
  },
  {
   "cell_type": "code",
   "execution_count": null,
   "metadata": {},
   "outputs": [],
   "source": []
  },
  {
   "cell_type": "code",
   "execution_count": null,
   "metadata": {},
   "outputs": [],
   "source": []
  },
  {
   "cell_type": "code",
   "execution_count": null,
   "metadata": {},
   "outputs": [],
   "source": []
  },
  {
   "cell_type": "code",
   "execution_count": null,
   "metadata": {},
   "outputs": [],
   "source": []
  },
  {
   "cell_type": "code",
   "execution_count": null,
   "metadata": {},
   "outputs": [],
   "source": []
  },
  {
   "cell_type": "code",
   "execution_count": null,
   "metadata": {},
   "outputs": [],
   "source": []
  },
  {
   "cell_type": "code",
   "execution_count": null,
   "metadata": {},
   "outputs": [],
   "source": []
  },
  {
   "cell_type": "code",
   "execution_count": null,
   "metadata": {},
   "outputs": [],
   "source": []
  },
  {
   "cell_type": "code",
   "execution_count": null,
   "metadata": {},
   "outputs": [],
   "source": []
  },
  {
   "cell_type": "code",
   "execution_count": null,
   "metadata": {},
   "outputs": [],
   "source": []
  },
  {
   "cell_type": "code",
   "execution_count": null,
   "metadata": {},
   "outputs": [],
   "source": []
  },
  {
   "cell_type": "code",
   "execution_count": null,
   "metadata": {},
   "outputs": [],
   "source": []
  },
  {
   "cell_type": "code",
   "execution_count": null,
   "metadata": {},
   "outputs": [],
   "source": []
  },
  {
   "cell_type": "code",
   "execution_count": null,
   "metadata": {},
   "outputs": [],
   "source": []
  },
  {
   "cell_type": "code",
   "execution_count": null,
   "metadata": {},
   "outputs": [],
   "source": []
  },
  {
   "cell_type": "code",
   "execution_count": null,
   "metadata": {},
   "outputs": [],
   "source": []
  },
  {
   "cell_type": "code",
   "execution_count": null,
   "metadata": {},
   "outputs": [],
   "source": []
  },
  {
   "cell_type": "code",
   "execution_count": null,
   "metadata": {},
   "outputs": [],
   "source": []
  },
  {
   "cell_type": "code",
   "execution_count": null,
   "metadata": {},
   "outputs": [],
   "source": []
  }
 ],
 "metadata": {
  "kernelspec": {
   "display_name": "Python 3",
   "language": "python",
   "name": "python3"
  },
  "language_info": {
   "codemirror_mode": {
    "name": "ipython",
    "version": 3
   },
   "file_extension": ".py",
   "mimetype": "text/x-python",
   "name": "python",
   "nbconvert_exporter": "python",
   "pygments_lexer": "ipython3",
   "version": "3.7.0"
  }
 },
 "nbformat": 4,
 "nbformat_minor": 2
}
